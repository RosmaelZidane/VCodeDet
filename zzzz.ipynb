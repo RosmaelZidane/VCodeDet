{
 "cells": [
  {
   "cell_type": "code",
   "execution_count": null,
   "metadata": {},
   "outputs": [],
   "source": []
  },
  {
   "cell_type": "code",
   "execution_count": null,
   "metadata": {},
   "outputs": [
    {
     "name": "stdout",
     "output_type": "stream",
     "text": [
      "   code line  vul status\n",
      "2          3           1\n"
     ]
    }
   ],
   "source": [
    "import pandas as pd\n",
    "\n",
    "# Sample data for demonstration\n",
    "lines_list = [1, 2, 3, 4, 5]  # Replace with your actual lines\n",
    "predict_status = [0, 0, 1, 0, 0]  # Replace with your actual predictions\n",
    "\n",
    "result_dict = {\"code line\": lines_list, \"vul status\": predict_status}\n",
    "output = pd.DataFrame(result_dict)\n",
    "vulnerable_lines = output[output['vul status'] == 1]\n",
    "if not vulnerable_lines.empty:\n",
    "    output = vulnerable_lines\n",
    "else:\n",
    "    output = pd.DataFrame({\n",
    "        \"code line\": [\"No potential vulnerable line found\"],  \n",
    "        \"vul status\": [\"Thank you!!!\"]\n",
    "    })\n",
    "\n",
    "\n",
    "print(output)"
   ]
  },
  {
   "cell_type": "code",
   "execution_count": null,
   "metadata": {},
   "outputs": [],
   "source": []
  },
  {
   "cell_type": "code",
   "execution_count": null,
   "metadata": {},
   "outputs": [],
   "source": []
  },
  {
   "cell_type": "code",
   "execution_count": null,
   "metadata": {},
   "outputs": [],
   "source": []
  },
  {
   "cell_type": "code",
   "execution_count": null,
   "metadata": {},
   "outputs": [
    {
     "name": "stdout",
     "output_type": "stream",
     "text": [
      "Java code provided to the analyser\n"
     ]
    }
   ],
   "source": []
  },
  {
   "cell_type": "code",
   "execution_count": null,
   "metadata": {},
   "outputs": [],
   "source": []
  }
 ],
 "metadata": {
  "kernelspec": {
   "display_name": "Python 3",
   "language": "python",
   "name": "python3"
  },
  "language_info": {
   "codemirror_mode": {
    "name": "ipython",
    "version": 3
   },
   "file_extension": ".py",
   "mimetype": "text/x-python",
   "name": "python",
   "nbconvert_exporter": "python",
   "pygments_lexer": "ipython3",
   "version": "3.10.12"
  }
 },
 "nbformat": 4,
 "nbformat_minor": 2
}
